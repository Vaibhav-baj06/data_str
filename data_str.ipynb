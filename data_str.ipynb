{
 "cells": [
  {
   "cell_type": "code",
   "execution_count": 1,
   "id": "760fafb8-92c4-4349-a964-b543072b3dca",
   "metadata": {},
   "outputs": [
    {
     "data": {
      "text/plain": [
       "'pwsk'"
      ]
     },
     "execution_count": 1,
     "metadata": {},
     "output_type": "execute_result"
    }
   ],
   "source": [
    "1 # Discuss string slicing and provide examples\n",
    "\n",
    "#String slicing is used for obtaining a sub string from given string by acessing specific content from it.\n",
    "#examples:-\n",
    "\n",
    "a= \"pwskills\"\n",
    "a[0:4]\n"
   ]
  },
  {
   "cell_type": "code",
   "execution_count": 2,
   "id": "106980f0-2ce2-4211-876b-7a6ad273b408",
   "metadata": {},
   "outputs": [
    {
     "data": {
      "text/plain": [
       "'skills'"
      ]
     },
     "execution_count": 2,
     "metadata": {},
     "output_type": "execute_result"
    }
   ],
   "source": [
    "a[2:]"
   ]
  },
  {
   "cell_type": "code",
   "execution_count": 10,
   "id": "ad29afa9-4915-40fc-8c7e-1f4c0ef4f123",
   "metadata": {},
   "outputs": [],
   "source": [
    "\n",
    "2 #Explain the key features of lists in Python\n",
    "    # ordered collection\n",
    "    # mutable in nature\n",
    "    # can hold items of various data types\n",
    "    # moms shopping bag\n",
    "lis=[1 ,2 ,3,\"vaibhav\",\"shruti\",2.2]\n"
   ]
  },
  {
   "cell_type": "code",
   "execution_count": 12,
   "id": "39274dba-1622-4aca-8b76-99fba00c9b11",
   "metadata": {},
   "outputs": [
    {
     "data": {
      "text/plain": [
       "1"
      ]
     },
     "execution_count": 12,
     "metadata": {},
     "output_type": "execute_result"
    }
   ],
   "source": [
    "3#  Describe how to access and modify and delete elements in a list with examples\n",
    " \n",
    "lis=[1 ,2 ,3,\"vaibhav\",\"shruti\",2.2,3+2j]\n",
    "     \n",
    "# list access   \n",
    "lis[0]"
   ]
  },
  {
   "cell_type": "code",
   "execution_count": 13,
   "id": "fc482088-bc28-4e49-90bf-8d2f05640b26",
   "metadata": {},
   "outputs": [
    {
     "data": {
      "text/plain": [
       "[1, 2, 3, 'vaibhav']"
      ]
     },
     "execution_count": 13,
     "metadata": {},
     "output_type": "execute_result"
    }
   ],
   "source": [
    "lis[0:4]"
   ]
  },
  {
   "cell_type": "code",
   "execution_count": 16,
   "id": "8387ceb5-d937-4f96-88d3-7c49de1ee6d7",
   "metadata": {},
   "outputs": [
    {
     "data": {
      "text/plain": [
       "[500, 2, 3, 'vaibhav', 'shruti', 2.2, (3+2j)]"
      ]
     },
     "execution_count": 16,
     "metadata": {},
     "output_type": "execute_result"
    }
   ],
   "source": [
    "# list modification\n",
    "lis[0]= 500\n",
    "lis"
   ]
  },
  {
   "cell_type": "code",
   "execution_count": 19,
   "id": "eccf52e4-9de0-4d49-afb6-22579444ba5f",
   "metadata": {},
   "outputs": [
    {
     "data": {
      "text/plain": [
       "[500, 2, 3, 'vaibhav', 'bittu', 2.2, (3+2j)]"
      ]
     },
     "execution_count": 19,
     "metadata": {},
     "output_type": "execute_result"
    }
   ],
   "source": [
    "lis[4]=\"bittu\"\n",
    "lis"
   ]
  },
  {
   "cell_type": "code",
   "execution_count": 21,
   "id": "516d3029-0c1d-48ac-8cda-fe61f7ff381e",
   "metadata": {},
   "outputs": [
    {
     "ename": "NameError",
     "evalue": "name 'lis' is not defined",
     "output_type": "error",
     "traceback": [
      "\u001b[0;31m---------------------------------------------------------------------------\u001b[0m",
      "\u001b[0;31mNameError\u001b[0m                                 Traceback (most recent call last)",
      "Cell \u001b[0;32mIn[21], line 2\u001b[0m\n\u001b[1;32m      1\u001b[0m \u001b[38;5;66;03m#deleting elements\u001b[39;00m\n\u001b[0;32m----> 2\u001b[0m \u001b[38;5;28;01mdel\u001b[39;00m lis\n\u001b[1;32m      3\u001b[0m lis\n",
      "\u001b[0;31mNameError\u001b[0m: name 'lis' is not defined"
     ]
    }
   ],
   "source": [
    "#deleting elements\n",
    "del lis\n",
    "lis"
   ]
  },
  {
   "cell_type": "code",
   "execution_count": 23,
   "id": "fb61abc5-56ed-4283-a09b-69735708cd59",
   "metadata": {},
   "outputs": [
    {
     "data": {
      "text/plain": [
       "['vab', 2, 3, 4]"
      ]
     },
     "execution_count": 23,
     "metadata": {},
     "output_type": "execute_result"
    }
   ],
   "source": [
    "4# Compare and contrast tuples and lists with examples\n",
    "\n",
    "#list is mutable tuple is immutable \n",
    "#tuple provide secure way to store the data\n",
    "#list have more operations while tuple have less then list\n",
    "\n",
    "lis=[1,2,3,4]\n",
    "tup=(1,2,3,4)\n",
    "#mutable\n",
    "lis[0]=\"vab\"\n",
    "lis\n"
   ]
  },
  {
   "cell_type": "code",
   "execution_count": 24,
   "id": "94231a18-a491-4d84-b98a-30f312af4f85",
   "metadata": {},
   "outputs": [
    {
     "ename": "TypeError",
     "evalue": "'tuple' object does not support item assignment",
     "output_type": "error",
     "traceback": [
      "\u001b[0;31m---------------------------------------------------------------------------\u001b[0m",
      "\u001b[0;31mTypeError\u001b[0m                                 Traceback (most recent call last)",
      "Cell \u001b[0;32mIn[24], line 1\u001b[0m\n\u001b[0;32m----> 1\u001b[0m \u001b[43mtup\u001b[49m\u001b[43m[\u001b[49m\u001b[38;5;241;43m0\u001b[39;49m\u001b[43m]\u001b[49m\u001b[38;5;241m=\u001b[39m\u001b[38;5;124m\"\u001b[39m\u001b[38;5;124mvab\u001b[39m\u001b[38;5;124m\"\u001b[39m\n",
      "\u001b[0;31mTypeError\u001b[0m: 'tuple' object does not support item assignment"
     ]
    }
   ],
   "source": [
    "tup[0]=\"vab\""
   ]
  },
  {
   "cell_type": "code",
   "execution_count": 25,
   "id": "bd107251-bebe-4ad6-8543-cd7061b64307",
   "metadata": {},
   "outputs": [
    {
     "data": {
      "text/plain": [
       "{1, 2, 3.3, 'vab'}"
      ]
     },
     "execution_count": 25,
     "metadata": {},
     "output_type": "execute_result"
    }
   ],
   "source": [
    "5# Describe the key features of sets and provide examples of their uses\n",
    "\n",
    "# Unordered collections of unique elements\n",
    "#The order doesn't matter, and duplicate entries are not allowed\n",
    "# indexing not allowed\n",
    "# finding the intersection/difference between sets.\n",
    "# You can add or remove elements from a set, but you cannot access elements by index (since order doesn't matter). \n",
    "\n",
    "s= {1,2,2,2,\"vab\",\"vab\",3.3}\n",
    "s\n",
    "#unique elements"
   ]
  },
  {
   "cell_type": "code",
   "execution_count": 26,
   "id": "485e45d0-fe3a-4c35-8299-adfe4ccf05de",
   "metadata": {},
   "outputs": [
    {
     "ename": "TypeError",
     "evalue": "'set' object is not subscriptable",
     "output_type": "error",
     "traceback": [
      "\u001b[0;31m---------------------------------------------------------------------------\u001b[0m",
      "\u001b[0;31mTypeError\u001b[0m                                 Traceback (most recent call last)",
      "Cell \u001b[0;32mIn[26], line 1\u001b[0m\n\u001b[0;32m----> 1\u001b[0m \u001b[43ms\u001b[49m\u001b[43m[\u001b[49m\u001b[38;5;241;43m0\u001b[39;49m\u001b[43m]\u001b[49m\n",
      "\u001b[0;31mTypeError\u001b[0m: 'set' object is not subscriptable"
     ]
    }
   ],
   "source": [
    "s[0]\n",
    "#indexing not allowed"
   ]
  },
  {
   "cell_type": "code",
   "execution_count": 27,
   "id": "6c45711a-f3e7-4021-9f52-127085753afc",
   "metadata": {},
   "outputs": [
    {
     "data": {
      "text/plain": [
       "{2, 3, 4, 5, 6, 7}"
      ]
     },
     "execution_count": 27,
     "metadata": {},
     "output_type": "execute_result"
    }
   ],
   "source": [
    "s1={2,3,4,5}\n",
    "s2={4,5,6,7}\n",
    "s1|s2\n",
    "#union"
   ]
  },
  {
   "cell_type": "code",
   "execution_count": 28,
   "id": "734c619f-cc46-426b-bd03-fdc3dc60c396",
   "metadata": {},
   "outputs": [
    {
     "data": {
      "text/plain": [
       "{1, 2, 3.3, 'shr', 'vab'}"
      ]
     },
     "execution_count": 28,
     "metadata": {},
     "output_type": "execute_result"
    }
   ],
   "source": [
    "s.add(\"shr\")\n",
    "s"
   ]
  },
  {
   "cell_type": "code",
   "execution_count": null,
   "id": "d209b0ed-5161-4890-aecf-8cbdb07ca7f2",
   "metadata": {},
   "outputs": [],
   "source": [
    "6# Discuss the use cases of tuples and sets in Python programming"
   ]
  },
  {
   "cell_type": "code",
   "execution_count": 30,
   "id": "9fadb13e-6c46-40b0-b6be-f822118811ba",
   "metadata": {},
   "outputs": [
    {
     "name": "stdout",
     "output_type": "stream",
     "text": [
      "{'Hello', 10, 3.0}\n"
     ]
    }
   ],
   "source": [
    "t=(1,2,3,\"vab\",4)\n",
    "s={1,2,3,\"vab\",4}\n",
    "# Tuples are useful for representing fixed datasets. \n",
    "# sets are useful for unique elements.\n",
    "S= set()\n",
    "S.add(10)\n",
    "S.add(3.0)\n",
    "S.add(\"Hello\")\n",
    " \n",
    "print(S)"
   ]
  },
  {
   "cell_type": "code",
   "execution_count": 35,
   "id": "4ad09e78-adfc-4536-a6b9-ac375a43914a",
   "metadata": {},
   "outputs": [
    {
     "ename": "TypeError",
     "evalue": "'tuple' object does not support item assignment",
     "output_type": "error",
     "traceback": [
      "\u001b[0;31m---------------------------------------------------------------------------\u001b[0m",
      "\u001b[0;31mTypeError\u001b[0m                                 Traceback (most recent call last)",
      "Cell \u001b[0;32mIn[35], line 1\u001b[0m\n\u001b[0;32m----> 1\u001b[0m \u001b[43mt\u001b[49m\u001b[43m[\u001b[49m\u001b[38;5;241;43m3\u001b[39;49m\u001b[43m]\u001b[49m\u001b[38;5;241m=\u001b[39m\u001b[38;5;241m5\u001b[39m\n",
      "\u001b[0;31mTypeError\u001b[0m: 'tuple' object does not support item assignment"
     ]
    }
   ],
   "source": [
    "t[3]=5\n",
    "#immutable"
   ]
  },
  {
   "cell_type": "code",
   "execution_count": 52,
   "id": "fbd0317a-6f8a-4db4-9a06-8fb06fd82b45",
   "metadata": {},
   "outputs": [
    {
     "data": {
      "text/plain": [
       "{'name': 123, 'value': 324, 'price': 234, 'point': 23}"
      ]
     },
     "execution_count": 52,
     "metadata": {},
     "output_type": "execute_result"
    }
   ],
   "source": [
    "7# Describe how to add, modify and delete items in a dictionary with examples\n",
    "\n",
    "#adding items\n",
    "dic={\"name\":123, \"value\":324,\"price\":234}\n",
    "dic[\"point\"]=23\n",
    "dic\n"
   ]
  },
  {
   "cell_type": "code",
   "execution_count": 53,
   "id": "47ee9e2c-2a1c-4816-9831-dbdc7cd6a2cb",
   "metadata": {},
   "outputs": [
    {
     "data": {
      "text/plain": [
       "{'name': 123, 'value': 675, 'price': 234, 'point': 23}"
      ]
     },
     "execution_count": 53,
     "metadata": {},
     "output_type": "execute_result"
    }
   ],
   "source": [
    "#modifying\n",
    "dic[\"value\"]=675\n",
    "dic\n"
   ]
  },
  {
   "cell_type": "code",
   "execution_count": 55,
   "id": "23b15775-11b9-474c-9046-b19ebaa2a1e0",
   "metadata": {},
   "outputs": [
    {
     "data": {
      "text/plain": [
       "{'value': 675, 'price': 234, 'point': 23}"
      ]
     },
     "execution_count": 55,
     "metadata": {},
     "output_type": "execute_result"
    }
   ],
   "source": [
    "#delete\n",
    "del dic[\"name\"]\n",
    "dic"
   ]
  },
  {
   "cell_type": "code",
   "execution_count": 57,
   "id": "c6d842d0-bbe3-4e42-8f88-7823e8e6f5fc",
   "metadata": {},
   "outputs": [
    {
     "data": {
      "text/plain": [
       "123"
      ]
     },
     "execution_count": 57,
     "metadata": {},
     "output_type": "execute_result"
    }
   ],
   "source": [
    "8# Discuss the importance of dictionary keys being immutable and provide examples\n",
    "\n",
    "# dictionary keys are being immutable because you can access the value of the dictionary with a key only\n",
    "# and if its get changed the value become inaccesseble\n",
    "#so data structures like list and set cannot be used as keys,\n",
    "#tuple and string get used as keys \n",
    "\n",
    "dc = {'name': 123, 'value': 675, 'price': 234, 'point': 23}\n",
    "dc[\"name\"]\n"
   ]
  },
  {
   "cell_type": "code",
   "execution_count": 58,
   "id": "27936661-db4c-4c2b-af05-3cd76ab32b0a",
   "metadata": {},
   "outputs": [
    {
     "ename": "TypeError",
     "evalue": "unhashable type: 'list'",
     "output_type": "error",
     "traceback": [
      "\u001b[0;31m---------------------------------------------------------------------------\u001b[0m",
      "\u001b[0;31mTypeError\u001b[0m                                 Traceback (most recent call last)",
      "Cell \u001b[0;32mIn[58], line 2\u001b[0m\n\u001b[1;32m      1\u001b[0m \u001b[38;5;66;03m#if we give list as key it will throw error\u001b[39;00m\n\u001b[0;32m----> 2\u001b[0m p \u001b[38;5;241m=\u001b[39m{[\u001b[38;5;241m1\u001b[39m,\u001b[38;5;241m2\u001b[39m,\u001b[38;5;241m3\u001b[39m]:\u001b[38;5;241m54\u001b[39m}\n",
      "\u001b[0;31mTypeError\u001b[0m: unhashable type: 'list'"
     ]
    }
   ],
   "source": [
    "#if we give list as key it will throw error\n",
    "p ={[1,2,3]:54}"
   ]
  },
  {
   "cell_type": "code",
   "execution_count": 61,
   "id": "08e35d39-8ea9-4e7b-b684-1d0ef72634ee",
   "metadata": {},
   "outputs": [
    {
     "data": {
      "text/plain": [
       "56"
      ]
     },
     "execution_count": 61,
     "metadata": {},
     "output_type": "execute_result"
    }
   ],
   "source": [
    "#tuple as key will not throw error\n",
    "p= {(1,2,3):56}\n",
    "p[(1,2,3)]"
   ]
  },
  {
   "cell_type": "code",
   "execution_count": null,
   "id": "2cfaf7d3-0315-4134-a6f2-20e07c881a97",
   "metadata": {},
   "outputs": [],
   "source": []
  }
 ],
 "metadata": {
  "kernelspec": {
   "display_name": "Python 3 (ipykernel)",
   "language": "python",
   "name": "python3"
  },
  "language_info": {
   "codemirror_mode": {
    "name": "ipython",
    "version": 3
   },
   "file_extension": ".py",
   "mimetype": "text/x-python",
   "name": "python",
   "nbconvert_exporter": "python",
   "pygments_lexer": "ipython3",
   "version": "3.10.8"
  }
 },
 "nbformat": 4,
 "nbformat_minor": 5
}
